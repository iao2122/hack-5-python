{
 "cells": [
  {
   "cell_type": "code",
   "execution_count": 21,
   "id": "55d68e5f-72fd-4251-a03a-641976f3c43a",
   "metadata": {},
   "outputs": [
    {
     "name": "stdout",
     "output_type": "stream",
     "text": [
      "generations: 10; freq(a): 0.16\n"
     ]
    }
   ],
   "source": [
    "import random\n",
    "import numpy as np\n",
    "import pandas as pd\n",
    "import requests\n",
    "\n",
    "def init(N, f):\n",
    "    derived_count = round(N*f)\n",
    "    pop = [0] * (N - derived_count) + [1] * derived_count\n",
    "    return pop\n",
    "\n",
    "def step(pop):\n",
    "    return random.choices(pop, k=len(pop))\n",
    "\n",
    "def wf(N, f, ngens):\n",
    "    pop = init(N=N, f=f)\n",
    "    ct = 0\n",
    "    for i in range(ngens):\n",
    "        pop = step(pop)\n",
    "        derived = sum(pop)\n",
    "        if derived == 0:\n",
    "            print(\"extinct\")\n",
    "            break\n",
    "        elif derived == len(pop):\n",
    "            print(\"fixed\")\n",
    "            break\n",
    "        else:\n",
    "            ct += 1\n",
    "    print(f\"generations: {ct}; freq(a): {derived/N}\")\n",
    "\n",
    "wf(N=100, f=0.2, ngens=10)"
   ]
  },
  {
   "cell_type": "code",
   "execution_count": 6,
   "id": "9133b02b-66a4-44be-aa60-c04aee80eb50",
   "metadata": {},
   "outputs": [
    {
     "name": "stdout",
     "output_type": "stream",
     "text": [
      "Dress the baby\n"
     ]
    }
   ],
   "source": [
    "class baby:\n",
    "    def dress(self):\n",
    "        print(\"Dress the baby\")\n",
    "class salad:\n",
    "    def dress(self):\n",
    "        print(\"Dress the salad\")\n",
    "\n",
    "b = baby()\n",
    "b.dress()"
   ]
  },
  {
   "cell_type": "code",
   "execution_count": 11,
   "id": "3a30a4e1-542a-4998-a0e1-0eb13a7d2e18",
   "metadata": {},
   "outputs": [
    {
     "data": {
      "text/plain": [
       "<__main__.Population at 0x10dfecf40>"
      ]
     },
     "execution_count": 11,
     "metadata": {},
     "output_type": "execute_result"
    }
   ],
   "source": [
    "class Population:\n",
    "    pass\n",
    "p = Population()\n",
    "p"
   ]
  },
  {
   "cell_type": "code",
   "execution_count": 206,
   "id": "8f2dd43b-07cd-4f5a-a1af-a01a50a8bfd7",
   "metadata": {},
   "outputs": [
    {
     "name": "stdout",
     "output_type": "stream",
     "text": [
      "N=10 f=0.2\n"
     ]
    }
   ],
   "source": [
    "class Population:\n",
    "    def __init__(self, N=10, f=0.2):\n",
    "        self.N = N\n",
    "        self.f = f\n",
    "\n",
    "        derived_count = round(N*f)\n",
    "        self.pop = [0] * (N - derived_count) + [1] * derived_count\n",
    "\n",
    "    def __repr__(self):\n",
    "        return f\"Population(N={self.N}, f={self.f})\"\n",
    "\n",
    "    def step(self, ngens=1):\n",
    "        for i in range(ngens):\n",
    "            self.pop = random.choices(self.pop, k=self.N)\n",
    "\n",
    "    def step_bad(self, ngens=1):\n",
    "        for i in range(ngens):\n",
    "            self.pop = random.choices(self.pop, k=len(self.pop))\n",
    "\n",
    "p = Population()\n",
    "p.step()\n",
    "p.pop\n",
    "print(f\"N={p.N} f={p.f}\")\n"
   ]
  },
  {
   "cell_type": "markdown",
   "id": "4571de87-6863-41aa-984d-e67dad595343",
   "metadata": {},
   "source": [
    "## numpy optimized"
   ]
  },
  {
   "cell_type": "code",
   "execution_count": 2,
   "id": "c8e46397-d970-48bc-8931-e1f851dc9864",
   "metadata": {},
   "outputs": [
    {
     "name": "stdout",
     "output_type": "stream",
     "text": [
      "N=10 f=0.2\n"
     ]
    }
   ],
   "source": [
    "class Population:\n",
    "    def __init__(self, N=10, f=0.2, with_np=False):\n",
    "        self.N = N\n",
    "        self.f = f\n",
    "        self.with_np = with_np\n",
    "\n",
    "        derived_count = round(N*f)\n",
    "        self.pop = [0] * (N - derived_count) + [1] * derived_count\n",
    "\n",
    "        if with_np:\n",
    "            self.pop = np.array(self.pop)\n",
    "\n",
    "    def __repr__(self):\n",
    "        return f\"Population(N={self.N}, f={self.f})\"\n",
    "\n",
    "    def step(self, ngens=1):\n",
    "        for i in range(ngens):\n",
    "            if self.with_np:\n",
    "                self.pop = np.random.choice(self.pop, size=self.N)\n",
    "            else:\n",
    "                self.pop = random.choices(self.pop, k=self.N)\n",
    "\n",
    "\n",
    "p = Population()\n",
    "p.step()\n",
    "p.pop\n",
    "print(f\"N={p.N} f={p.f}\")\n"
   ]
  },
  {
   "cell_type": "markdown",
   "id": "af07ab62-8814-4040-b218-039b4cd78149",
   "metadata": {},
   "source": [
    "## Small N"
   ]
  },
  {
   "cell_type": "code",
   "execution_count": 14,
   "id": "74bb6926-275e-4d7e-b9ab-4f8a5b890c2f",
   "metadata": {},
   "outputs": [],
   "source": [
    "p_np = Population(N=100, with_np=True)\n",
    "p = Population(N=100, with_np=False)"
   ]
  },
  {
   "cell_type": "markdown",
   "id": "19192414-07dd-4878-8fd9-3f4ede1d0987",
   "metadata": {},
   "source": [
    "### np arrays and np rand"
   ]
  },
  {
   "cell_type": "code",
   "execution_count": 15,
   "id": "00830856-77d0-45bf-b4d1-ad12629c728d",
   "metadata": {},
   "outputs": [
    {
     "name": "stdout",
     "output_type": "stream",
     "text": [
      "9.09 ms ± 134 µs per loop (mean ± std. dev. of 7 runs, 100 loops each)\n"
     ]
    }
   ],
   "source": [
    "%%timeit\n",
    "p_np.step(1000)"
   ]
  },
  {
   "cell_type": "code",
   "execution_count": 17,
   "id": "a553924e-3f86-4404-a421-2e5d43a68cc3",
   "metadata": {},
   "outputs": [
    {
     "name": "stdout",
     "output_type": "stream",
     "text": [
      "7.86 ms ± 30.2 µs per loop (mean ± std. dev. of 7 runs, 100 loops each)\n"
     ]
    }
   ],
   "source": [
    "%%timeit\n",
    "p.step(1000)"
   ]
  },
  {
   "cell_type": "code",
   "execution_count": 30,
   "id": "08b656ae-0f99-427b-a619-d50bdce6b60c",
   "metadata": {},
   "outputs": [
    {
     "name": "stdout",
     "output_type": "stream",
     "text": [
      "977 ms ± 8.59 ms per loop (mean ± std. dev. of 7 runs, 1 loop each)\n"
     ]
    }
   ],
   "source": [
    "%%timeit\n",
    "p_np.step(100000)"
   ]
  },
  {
   "cell_type": "code",
   "execution_count": 31,
   "id": "56cbc9af-0327-4b59-b893-13650aa3799d",
   "metadata": {},
   "outputs": [
    {
     "name": "stdout",
     "output_type": "stream",
     "text": [
      "863 ms ± 7.13 ms per loop (mean ± std. dev. of 7 runs, 1 loop each)\n"
     ]
    }
   ],
   "source": [
    "%%timeit\n",
    "p.step(100000)"
   ]
  },
  {
   "cell_type": "markdown",
   "id": "399a2c1e-4957-4e49-93c6-da427da58938",
   "metadata": {},
   "source": [
    "## Large N"
   ]
  },
  {
   "cell_type": "code",
   "execution_count": 37,
   "id": "fbc56c95-763a-44a1-ad2f-43d0940decab",
   "metadata": {},
   "outputs": [],
   "source": [
    "pl_np = Population(N=100000, with_np=True)\n",
    "pl = Population(N=100000, with_np=False)"
   ]
  },
  {
   "cell_type": "code",
   "execution_count": 40,
   "id": "d33149bc-2ba8-4973-b1d3-dcfb63a759ed",
   "metadata": {},
   "outputs": [
    {
     "name": "stdout",
     "output_type": "stream",
     "text": [
      "967 ms ± 10.5 ms per loop (mean ± std. dev. of 7 runs, 1 loop each)\n"
     ]
    }
   ],
   "source": [
    "%%timeit\n",
    "pl_np.step(1000)"
   ]
  },
  {
   "cell_type": "code",
   "execution_count": 41,
   "id": "c06d2873-9d20-4b82-910e-10226ee4b11f",
   "metadata": {},
   "outputs": [
    {
     "name": "stdout",
     "output_type": "stream",
     "text": [
      "8.69 s ± 222 ms per loop (mean ± std. dev. of 7 runs, 1 loop each)\n"
     ]
    }
   ],
   "source": [
    "%%timeit\n",
    "pl.step(1000)"
   ]
  },
  {
   "cell_type": "code",
   "execution_count": null,
   "id": "85eb7fb0-0e9e-4fdd-a463-23b522702418",
   "metadata": {},
   "outputs": [],
   "source": []
  }
 ],
 "metadata": {
  "kernelspec": {
   "display_name": "Python 3 (ipykernel)",
   "language": "python",
   "name": "python3"
  },
  "language_info": {
   "codemirror_mode": {
    "name": "ipython",
    "version": 3
   },
   "file_extension": ".py",
   "mimetype": "text/x-python",
   "name": "python",
   "nbconvert_exporter": "python",
   "pygments_lexer": "ipython3",
   "version": "3.10.12"
  }
 },
 "nbformat": 4,
 "nbformat_minor": 5
}
