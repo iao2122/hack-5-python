{
 "cells": [
  {
   "cell_type": "code",
   "execution_count": 20,
   "id": "55d68e5f-72fd-4251-a03a-641976f3c43a",
   "metadata": {},
   "outputs": [
    {
     "name": "stdout",
     "output_type": "stream",
     "text": [
      "extinct\n",
      "generations: 10; freq(a): 0.0\n"
     ]
    }
   ],
   "source": [
    "import random\n",
    "\n",
    "def init(N, f):\n",
    "    derived_count = round(N*f)\n",
    "    pop = [0] * (N - derived_count) + [1] * derived_count\n",
    "    return pop\n",
    "\n",
    "def step(pop):\n",
    "    return random.choices(pop, k=len(pop))\n",
    "\n",
    "def wf(N, f, ngens):\n",
    "    pop = init(N=N, f=f)\n",
    "    ct = 0\n",
    "    for i in range(ngens):\n",
    "        pop = step(pop)\n",
    "        derived = sum(pop)\n",
    "        if derived == 0:\n",
    "            print(\"extinct\")\n",
    "            break\n",
    "        elif derived == len(pop):\n",
    "            print(\"fixed\")\n",
    "            break\n",
    "        else:\n",
    "            ct += 1\n",
    "    print(f\"generations: {ngens}; freq(a): {derived/N}\")\n",
    "\n",
    "wf(N=100, f=0.2, ngens=10)"
   ]
  },
  {
   "cell_type": "code",
   "execution_count": 21,
   "id": "9133b02b-66a4-44be-aa60-c04aee80eb50",
   "metadata": {},
   "outputs": [
    {
     "name": "stdout",
     "output_type": "stream",
     "text": [
      "/home/jovyan/hacks/hack-6-python/notebooks\n"
     ]
    }
   ],
   "source": [
    "!pwd"
   ]
  }
 ],
 "metadata": {
  "kernelspec": {
   "display_name": "Python 3 (ipykernel)",
   "language": "python",
   "name": "python3"
  },
  "language_info": {
   "codemirror_mode": {
    "name": "ipython",
    "version": 3
   },
   "file_extension": ".py",
   "mimetype": "text/x-python",
   "name": "python",
   "nbconvert_exporter": "python",
   "pygments_lexer": "ipython3",
   "version": "3.11.6"
  }
 },
 "nbformat": 4,
 "nbformat_minor": 5
}
